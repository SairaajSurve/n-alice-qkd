{
 "cells": [
  {
   "cell_type": "code",
   "execution_count": 2,
   "metadata": {},
   "outputs": [],
   "source": [
    "from qiskit import *\n",
    "import math\n",
    "import numpy as np\n",
    "import hashlib\n",
    "import hmac\n",
    "import time\n",
    "import json\n",
    "from Crypto.Cipher import AES\n",
    "from Crypto.Random import get_random_bytes\n",
    "import Padding"
   ]
  },
  {
   "cell_type": "code",
   "execution_count": 3,
   "metadata": {},
   "outputs": [],
   "source": [
    "simulator = Aer.get_backend('qasm_simulator')"
   ]
  },
  {
   "cell_type": "code",
   "execution_count": 4,
   "metadata": {},
   "outputs": [
    {
     "ename": "QiskitError",
     "evalue": "'No counts for experiment \"<qiskit.circuit.quantumcircuit.QuantumCircuit object at 0x000001C17FBF56D0>\"'",
     "output_type": "error",
     "traceback": [
      "\u001b[1;31m---------------------------------------------------------------------------\u001b[0m",
      "\u001b[1;31mQiskitError\u001b[0m                               Traceback (most recent call last)",
      "Cell \u001b[1;32mIn[4], line 8\u001b[0m\n\u001b[0;32m      2\u001b[0m \u001b[38;5;66;03m# circuit.x(0)\u001b[39;00m\n\u001b[0;32m      3\u001b[0m \u001b[38;5;66;03m# circuit.h(0)\u001b[39;00m\n\u001b[0;32m      4\u001b[0m \u001b[38;5;66;03m# circuit.measure(0, 0)\u001b[39;00m\n\u001b[0;32m      5\u001b[0m \u001b[38;5;66;03m# circuit.initialize([0, 1], 0)\u001b[39;00m\n\u001b[0;32m      6\u001b[0m \u001b[38;5;66;03m# circuit.measure(0, 0)\u001b[39;00m\n\u001b[0;32m      7\u001b[0m result \u001b[38;5;241m=\u001b[39m execute(circuit, backend\u001b[38;5;241m=\u001b[39msimulator, shots\u001b[38;5;241m=\u001b[39m\u001b[38;5;241m1\u001b[39m)\u001b[38;5;241m.\u001b[39mresult()\n\u001b[1;32m----> 8\u001b[0m count \u001b[38;5;241m=\u001b[39m \u001b[43mresult\u001b[49m\u001b[38;5;241;43m.\u001b[39;49m\u001b[43mget_counts\u001b[49m\u001b[43m(\u001b[49m\u001b[43mcircuit\u001b[49m\u001b[43m)\u001b[49m\n\u001b[0;32m      9\u001b[0m value \u001b[38;5;241m=\u001b[39m [\u001b[38;5;28mint\u001b[39m(x) \u001b[38;5;28;01mfor\u001b[39;00m x \u001b[38;5;129;01min\u001b[39;00m \u001b[38;5;28mlist\u001b[39m(\u001b[38;5;28mlist\u001b[39m(count\u001b[38;5;241m.\u001b[39mkeys())[\u001b[38;5;241m0\u001b[39m][::\u001b[38;5;241m-\u001b[39m\u001b[38;5;241m1\u001b[39m])][\u001b[38;5;241m0\u001b[39m]\n\u001b[0;32m     10\u001b[0m \u001b[38;5;28mprint\u001b[39m(value)\n",
      "File \u001b[1;32me:\\Sairaaj\\Code\\nalice\\.venv\\lib\\site-packages\\qiskit\\result\\result.py:289\u001b[0m, in \u001b[0;36mResult.get_counts\u001b[1;34m(self, experiment)\u001b[0m\n\u001b[0;32m    287\u001b[0m         dict_list\u001b[38;5;241m.\u001b[39mappend(statevector\u001b[38;5;241m.\u001b[39mStatevector(vec)\u001b[38;5;241m.\u001b[39mprobabilities_dict(decimals\u001b[38;5;241m=\u001b[39m\u001b[38;5;241m15\u001b[39m))\n\u001b[0;32m    288\u001b[0m     \u001b[38;5;28;01melse\u001b[39;00m:\n\u001b[1;32m--> 289\u001b[0m         \u001b[38;5;28;01mraise\u001b[39;00m QiskitError(\u001b[38;5;124mf\u001b[39m\u001b[38;5;124m'\u001b[39m\u001b[38;5;124mNo counts for experiment \u001b[39m\u001b[38;5;124m\"\u001b[39m\u001b[38;5;132;01m{\u001b[39;00m\u001b[38;5;28mrepr\u001b[39m(key)\u001b[38;5;132;01m}\u001b[39;00m\u001b[38;5;124m\"\u001b[39m\u001b[38;5;124m'\u001b[39m)\n\u001b[0;32m    291\u001b[0m \u001b[38;5;66;03m# Return first item of dict_list if size is 1\u001b[39;00m\n\u001b[0;32m    292\u001b[0m \u001b[38;5;28;01mif\u001b[39;00m \u001b[38;5;28mlen\u001b[39m(dict_list) \u001b[38;5;241m==\u001b[39m \u001b[38;5;241m1\u001b[39m:\n",
      "\u001b[1;31mQiskitError\u001b[0m: 'No counts for experiment \"<qiskit.circuit.quantumcircuit.QuantumCircuit object at 0x000001C17FBF56D0>\"'"
     ]
    }
   ],
   "source": [
    "circuit = QuantumCircuit(1, 1)\n",
    "# circuit.x(0)\n",
    "# circuit.h(0)\n",
    "# circuit.measure(0, 0)\n",
    "# circuit.initialize([0, 1], 0)\n",
    "# circuit.measure(0, 0)\n",
    "result = execute(circuit, backend=simulator, shots=1).result()\n",
    "count = result.get_counts(circuit)\n",
    "value = [int(x) for x in list(list(count.keys())[0][::-1])][0]\n",
    "print(value)\n",
    "# circuit.h(0)\n",
    "# for i in range(8):\n",
    "#     circuit.measure(0, 0)\n",
    "#     result = execute(circuit, backend=simulator, shots=1).result()\n",
    "#     count = result.get_counts(circuit)\n",
    "#     value = [int(x) for x in list(list(count.keys())[0][::-1])][0]\n",
    "#     print(value)\n",
    "#     circuit.reset(0)\n",
    "#     if value == 1:\n",
    "#         circuit.x(0)\n",
    "circuit.draw()"
   ]
  }
 ],
 "metadata": {
  "kernelspec": {
   "display_name": ".venv",
   "language": "python",
   "name": "python3"
  },
  "language_info": {
   "codemirror_mode": {
    "name": "ipython",
    "version": 3
   },
   "file_extension": ".py",
   "mimetype": "text/x-python",
   "name": "python",
   "nbconvert_exporter": "python",
   "pygments_lexer": "ipython3",
   "version": "3.9.13"
  }
 },
 "nbformat": 4,
 "nbformat_minor": 2
}
